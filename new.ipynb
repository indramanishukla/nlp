{
 "cells": [
  {
   "cell_type": "code",
   "execution_count": 1,
   "metadata": {},
   "outputs": [],
   "source": [
    "x = [[12, 3], [4, 5]]"
   ]
  },
  {
   "cell_type": "code",
   "execution_count": 2,
   "metadata": {},
   "outputs": [
    {
     "data": {
      "text/plain": [
       "[[12, 3], [4, 5]]"
      ]
     },
     "execution_count": 2,
     "metadata": {},
     "output_type": "execute_result"
    }
   ],
   "source": [
    "x"
   ]
  },
  {
   "cell_type": "code",
   "execution_count": 3,
   "metadata": {},
   "outputs": [
    {
     "data": {
      "text/plain": [
       "[12, 3, 4, 5]"
      ]
     },
     "execution_count": 3,
     "metadata": {},
     "output_type": "execute_result"
    }
   ],
   "source": [
    "sum(x, [])"
   ]
  },
  {
   "cell_type": "code",
   "execution_count": 17,
   "metadata": {},
   "outputs": [
    {
     "data": {
      "text/plain": [
       "dict_values([2, 54, 15])"
      ]
     },
     "execution_count": 17,
     "metadata": {},
     "output_type": "execute_result"
    }
   ],
   "source": [
    "x = {'a':2, 'b':54, 'c':15}\n",
    "x.values()\n"
   ]
  },
  {
   "cell_type": "code",
   "execution_count": 18,
   "metadata": {},
   "outputs": [
    {
     "data": {
      "text/plain": [
       "[('a', 2), ('c', 15), ('b', 54)]"
      ]
     },
     "execution_count": 18,
     "metadata": {},
     "output_type": "execute_result"
    }
   ],
   "source": [
    "sorted(x.items(), key=lambda x:x[1])"
   ]
  },
  {
   "cell_type": "code",
   "execution_count": 20,
   "metadata": {},
   "outputs": [
    {
     "data": {
      "text/plain": [
       "[('a', 2), ('b', 54), ('c', 15)]"
      ]
     },
     "execution_count": 20,
     "metadata": {},
     "output_type": "execute_result"
    }
   ],
   "source": [
    "sorted(x.items(), key=)"
   ]
  },
  {
   "cell_type": "code",
   "execution_count": 23,
   "metadata": {},
   "outputs": [
    {
     "data": {
      "text/plain": [
       "[('a', 2), ('c', 15), ('b', 54)]"
      ]
     },
     "execution_count": 23,
     "metadata": {},
     "output_type": "execute_result"
    }
   ],
   "source": [
    "sorted(x.items(), key=lambda x:x[1])[]"
   ]
  },
  {
   "cell_type": "code",
   "execution_count": 25,
   "metadata": {},
   "outputs": [
    {
     "data": {
      "text/plain": [
       "{'a': 2, 'b': 54, 'c': 15}"
      ]
     },
     "execution_count": 25,
     "metadata": {},
     "output_type": "execute_result"
    }
   ],
   "source": [
    "dict(x.items())"
   ]
  },
  {
   "cell_type": "code",
   "execution_count": 26,
   "metadata": {},
   "outputs": [
    {
     "data": {
      "text/plain": [
       "dict_items([('a', 2), ('b', 54), ('c', 15)])"
      ]
     },
     "execution_count": 26,
     "metadata": {},
     "output_type": "execute_result"
    }
   ],
   "source": [
    "x.items()"
   ]
  },
  {
   "cell_type": "code",
   "execution_count": 27,
   "metadata": {},
   "outputs": [
    {
     "data": {
      "text/plain": [
       "{'a': 2, 'b': 54, 'c': 15}"
      ]
     },
     "execution_count": 27,
     "metadata": {},
     "output_type": "execute_result"
    }
   ],
   "source": [
    "dict([('a', 2), ('b', 54), ('c', 15)])"
   ]
  },
  {
   "cell_type": "code",
   "execution_count": null,
   "metadata": {},
   "outputs": [],
   "source": [
    "Given n integer ranges, the task is to return the maximum occurring integer in the given ranges. If more than one such integer exists, return the smallest one.\n",
    "The ranges are in two arrays l[] and r[].  l[i] consists of the starting point of the range and r[i] consists of the corresponding endpoint of the range & a maxx which is the maximum value of r[].\n",
    "\n",
    "For example, consider the following ranges.\n",
    "l[] = {2, 1, 3}, r[] = {5, 3, 9)\n",
    "Ranges represented by the above arrays are.\n",
    "[2, 5] = {2, 3, 4, 5}\n",
    "[1, 3] = {1, 2, 3}\n",
    "[3, 9] = {3, 4, 5, 6, 7, 8, 9}\n",
    "The maximum occurred integer in these ranges is 3.\n",
    "Example 1:\n",
    "\n",
    "Input: n = 4, l[] = {1,4,3,1}, r[] = {15,8,5,4}, maxx = 15\n",
    "Output: 4\n",
    "Explanation: The given ranges are [1,15] [4, 8] [3, 5] [1, 4]. The smallest number that is most common or appears most times in the ranges is 4.\n",
    "Example 2:\n",
    "\n",
    "Input: n = 5, l[] = {1,5,9,13,21}, r[] = {15,8,12,20,30}, maxx = 30\n",
    "Output: 5\n",
    "Explanation: The given ranges are [1, 15] [5, 8] [9, 12] [13, 20] [21, 30]. The smallest number that is most common or appears most times in the ranges is 5.\n",
    "Expected Time Complexity: O(n+maxx).\n",
    "Expected Auxiliary Space: O(maxx), maxx is maximum element in r[]\n",
    "\n",
    "Constraints:\n",
    "1 ≤ n ≤ 106\n",
    "0 ≤ l[i], r[i] ≤ 106"
   ]
  },
  {
   "cell_type": "code",
   "execution_count": null,
   "metadata": {},
   "outputs": [],
   "source": [
    "10\n",
    "2 5 3 4 3 3 2 7 9 6\n",
    "4 5 6 6 8 3 10 10 10 10"
   ]
  },
  {
   "cell_type": "code",
   "execution_count": null,
   "metadata": {},
   "outputs": [],
   "source": [
    "#User function Template for python3\n",
    "\n",
    "class Solution:\n",
    "    #Complete this function\n",
    "    #Function to find the maximum occurred integer in all ranges.\n",
    "    def maxOccured(self,n, l, r, maxx):\n",
    "        ##Your code here\n",
    "        n = n\n",
    "        l = l\n",
    "        r = r\n",
    "        \n",
    "        stack =[]\n",
    "        final = []\n",
    "        \n",
    "        lst = [(l[i], r[i]) for i in range(n) ]\n",
    "        lst = [(i[0], i[1]) for i in lst]\n",
    "        for i, val in enumerate(lst):\n",
    "            stack.append([i for i in range(val[0], val[1]+1)])\n",
    "        \n",
    "        stack = sum(stack, [])\n",
    "        dict = {}\n",
    "        for i in stack:\n",
    "            if i not in dict:\n",
    "                dict[i] = 1\n",
    "            else:\n",
    "                dict[i]=dict[i]+1\n",
    "                \n",
    "        dict = dict.items()\n",
    "        \n",
    "        dsbv = sorted(dict, key=lambda x:x[1])\n",
    "        max_value = dsbv[-1][1]\n",
    "        top_ranker = sorted([i for i in dsbv if i[1]==max_value])[0][0]\n",
    "        \n",
    "        # final_dict = dict([i for i in dsbv if i[1]==max_value])\n",
    "        return top_ranker\n",
    "        \n",
    "        \n",
    "            \n",
    "        \n",
    "        \n",
    "        \n",
    "            \n",
    "\n",
    "#{ \n",
    " # Driver Code Starts\n",
    "#Initial Template for Python 3\n",
    "\n",
    "import math\n",
    "\n",
    "A = [0] * 1000000\n",
    "\n",
    "\n",
    "def main():\n",
    "\n",
    "    T = int(input())\n",
    "\n",
    "    while (T > 0):\n",
    "\n",
    "        global A\n",
    "        A = [0] * 1000000\n",
    "\n",
    "        n = int(input())\n",
    "\n",
    "        l = [int(x) for x in input().strip().split()]\n",
    "        r = [int(x) for x in input().strip().split()]\n",
    "\n",
    "        maxx = max(r)\n",
    "        ob = Solution()\n",
    "        print(ob.maxOccured(n, l, r, maxx))\n",
    "\n",
    "        T -= 1\n",
    "\n",
    "\n",
    "if __name__ == \"__main__':\n",
    "    main()\n",
    "\n",
    "# } Driver Code Ends"
   ]
  },
  {
   "cell_type": "code",
   "execution_count": 14,
   "metadata": {},
   "outputs": [
    {
     "name": "stdout",
     "output_type": "stream",
     "text": [
      "[[1 2 3]\n",
      " [4 5 6]]\n",
      "[1 2 3]\n",
      "[[2 4 6]\n",
      " [5 7 9]]\n"
     ]
    }
   ],
   "source": [
    "import numpy as np \n",
    "  \n",
    "v = np.array([1, 2, 3])   \n",
    "w = np.array([4, 5])     \n",
    "  \n",
    "# Outer product of vectors v and w\n",
    "# print(np.reshape(v, (3,1)))\n",
    "# print(np.reshape(v, (3, 1)) * w) \n",
    "  \n",
    "x = np.array([[1, 2, 3], [4, 5, 6]])\n",
    "\n",
    "print(x)\n",
    "print(v)\n",
    "print(x+v)\n",
    "\n",
    "\n"
   ]
  },
  {
   "cell_type": "code",
   "execution_count": 15,
   "metadata": {},
   "outputs": [
    {
     "data": {
      "text/plain": [
       "1"
      ]
     },
     "execution_count": 15,
     "metadata": {},
     "output_type": "execute_result"
    }
   ],
   "source": [
    "arr = [3, 4, 6, 9]\n",
    "arr.index(4)\n"
   ]
  },
  {
   "cell_type": "code",
   "execution_count": null,
   "metadata": {},
   "outputs": [],
   "source": []
  },
  {
   "cell_type": "code",
   "execution_count": null,
   "metadata": {},
   "outputs": [],
   "source": []
  },
  {
   "cell_type": "code",
   "execution_count": null,
   "metadata": {},
   "outputs": [],
   "source": []
  },
  {
   "cell_type": "code",
   "execution_count": 4,
   "metadata": {},
   "outputs": [
    {
     "name": "stdout",
     "output_type": "stream",
     "text": [
      "[[2 4 6]\n",
      " [5 7 9]]\n"
     ]
    }
   ],
   "source": [
    "print(x+v)"
   ]
  },
  {
   "cell_type": "code",
   "execution_count": 7,
   "metadata": {},
   "outputs": [
    {
     "name": "stdout",
     "output_type": "stream",
     "text": [
      "[[ 0  5 10 15]\n",
      " [20 25 30 35]\n",
      " [40 45 50 55]]\n",
      "[1 2 3 4]\n"
     ]
    }
   ],
   "source": [
    "import numpy as np \n",
    "a = np.arange(0,60,5) \n",
    "a = a.reshape(3,4) \n",
    "\n",
    "# print 'First array is:' \n",
    "print (a) \n",
    "# print '\\n'  \n",
    "\n",
    "# print 'Second array is:' \n",
    "b = np.array([1, 2, 3, 4], dtype = int) \n",
    "print(b)  \n",
    "# print '\\n' \n",
    "\n",
    "# print 'Modified array is:' \n",
    "\n"
   ]
  },
  {
   "cell_type": "code",
   "execution_count": 9,
   "metadata": {},
   "outputs": [
    {
     "data": {
      "text/plain": [
       "[array([[ 0,  5, 10, 15],\n",
       "        [20, 25, 30, 35],\n",
       "        [40, 45, 50, 55]]),\n",
       " array([1, 2, 3, 4])]"
      ]
     },
     "execution_count": 9,
     "metadata": {},
     "output_type": "execute_result"
    }
   ],
   "source": [
    "[a,b]"
   ]
  },
  {
   "cell_type": "code",
   "execution_count": null,
   "metadata": {},
   "outputs": [],
   "source": []
  },
  {
   "cell_type": "code",
   "execution_count": 8,
   "metadata": {},
   "outputs": [
    {
     "name": "stdout",
     "output_type": "stream",
     "text": [
      "0:1\n",
      "5:2\n",
      "10:3\n",
      "15:4\n",
      "20:1\n",
      "25:2\n",
      "30:3\n",
      "35:4\n",
      "40:1\n",
      "45:2\n",
      "50:3\n",
      "55:4\n"
     ]
    }
   ],
   "source": [
    "for x,y in np.nditer([a,b]): \n",
    "   print('%d:%d' % (x,y))"
   ]
  },
  {
   "cell_type": "code",
   "execution_count": null,
   "metadata": {},
   "outputs": [],
   "source": []
  },
  {
   "cell_type": "code",
   "execution_count": 1,
   "metadata": {},
   "outputs": [
    {
     "data": {
      "text/plain": [
       "-inf"
      ]
     },
     "execution_count": 1,
     "metadata": {},
     "output_type": "execute_result"
    }
   ],
   "source": [
    "float('-inf')\n"
   ]
  },
  {
   "cell_type": "code",
   "execution_count": 5,
   "metadata": {},
   "outputs": [
    {
     "data": {
      "text/plain": [
       "2"
      ]
     },
     "execution_count": 5,
     "metadata": {},
     "output_type": "execute_result"
    }
   ],
   "source": [
    "lowest_path_cost = float('inf')\n",
    "# pretend that these were calculated using some worthwhile algorithm\n",
    "path_costs = [ 100, 2000000000000, 50, 2]\n",
    "for path in path_costs:\n",
    "    if path < lowest_path_cost:\n",
    "        lowest_path_cost = path\n",
    "\n",
    "lowest_path_cost\n"
   ]
  },
  {
   "cell_type": "code",
   "execution_count": 6,
   "metadata": {},
   "outputs": [
    {
     "data": {
      "text/plain": [
       "2000000000000"
      ]
     },
     "execution_count": 6,
     "metadata": {},
     "output_type": "execute_result"
    }
   ],
   "source": [
    "lowest_path_cost = float('-inf')\n",
    "# pretend that these were calculated using some worthwhile algorithm\n",
    "path_costs = [ 100, 2000000000000, 50, 2]\n",
    "for path in path_costs:\n",
    "    if path > lowest_path_cost:\n",
    "        lowest_path_cost = path\n",
    "\n",
    "lowest_path_cost"
   ]
  },
  {
   "cell_type": "code",
   "execution_count": null,
   "metadata": {},
   "outputs": [],
   "source": [
    "class Solution:\n",
    "    #Function to find the maximum occurred integer in all ranges.\n",
    "    def maxOccured(self, n, l, r, maxx):\n",
    "        i = 0\n",
    "        #Adding 1 at (L[i])th index and subtracting 1 at (R[i]+1)th\n",
    "        #index in the array.\n",
    "        while (i < n):\n",
    "            A[l[i]] += 1\n",
    "            A[r[i] + 1] -= 1\n",
    "            i += 1\n",
    "\n",
    "        #Initialise maximum sum as arr[0] and index as -1.\n",
    "        msum = A[0]\n",
    "        ind = 0\n",
    "\n",
    "        i = 1\n",
    "        #Finding the prefix sum of the array.\n",
    "        while (i <= maxx):\n",
    "            #Finding the prefix sum at every index of the array.\n",
    "            A[i] += A[i - 1]\n",
    "\n",
    "            #Updating maximum sum if prefix sum at current index is greater\n",
    "            #than value stored earlier as maximum sum.\n",
    "            #Storing the index with maximum prefix sum.\n",
    "            if msum < A[i]:\n",
    "                msum = A[i]\n",
    "                ind = i\n",
    "            i += 1\n",
    "\n",
    "        #returning the index with maximum prefix sum which is maximum\n",
    "        #occuring element in the array.\n",
    "        return ind"
   ]
  },
  {
   "cell_type": "code",
   "execution_count": 13,
   "metadata": {},
   "outputs": [],
   "source": [
    "A=[0]*8\n",
    "A[0] = 'Google'\n",
    "A[1] = 'Amazon'\n",
    "A[2] = 'Facebook'\n",
    "A[3] = 'Amazon'\n",
    "A[4] = 'Microsoft'\n",
    "A[5] = 'IBM'\n",
    "A[6] = 'Apple'\n",
    "A[7] = 'Microsoft'"
   ]
  },
  {
   "cell_type": "code",
   "execution_count": 14,
   "metadata": {},
   "outputs": [],
   "source": [
    "def earliest_coverage_time(A):\n",
    "    all_comp = set(A)\n",
    "\n",
    "    for i in range(len(A)):\n",
    "        if set(A[:i])==all_comp:\n",
    "            return i+1"
   ]
  },
  {
   "cell_type": "code",
   "execution_count": 15,
   "metadata": {},
   "outputs": [
    {
     "data": {
      "text/plain": [
       "8"
      ]
     },
     "execution_count": 15,
     "metadata": {},
     "output_type": "execute_result"
    }
   ],
   "source": [
    "earliest_coverage_time(A)"
   ]
  },
  {
   "cell_type": "code",
   "execution_count": 17,
   "metadata": {},
   "outputs": [],
   "source": [
    "def earliest_coverage_time(A):\n",
    "    all_comp = set(A)\n",
    "\n",
    "    for i in range(len(A)):\n",
    "        all_comp.discard(A[i])\n",
    "        if len(all_comp)==0:\n",
    "            return i+1\n",
    "        # if set(A[:i])==all_comp:\n",
    "        #     return i+1"
   ]
  },
  {
   "cell_type": "code",
   "execution_count": 18,
   "metadata": {},
   "outputs": [
    {
     "data": {
      "text/plain": [
       "7"
      ]
     },
     "execution_count": 18,
     "metadata": {},
     "output_type": "execute_result"
    }
   ],
   "source": [
    "earliest_coverage_time(A)"
   ]
  },
  {
   "cell_type": "code",
   "execution_count": 19,
   "metadata": {},
   "outputs": [
    {
     "data": {
      "text/plain": [
       "['Google',\n",
       " 'Amazon',\n",
       " 'Facebook',\n",
       " 'Amazon',\n",
       " 'Microsoft',\n",
       " 'IBM',\n",
       " 'Apple',\n",
       " 'Microsoft']"
      ]
     },
     "execution_count": 19,
     "metadata": {},
     "output_type": "execute_result"
    }
   ],
   "source": [
    "A"
   ]
  },
  {
   "cell_type": "code",
   "execution_count": 20,
   "metadata": {},
   "outputs": [
    {
     "data": {
      "text/plain": [
       "{'Amazon', 'Apple', 'Facebook', 'Google', 'IBM', 'Microsoft'}"
      ]
     },
     "execution_count": 20,
     "metadata": {},
     "output_type": "execute_result"
    }
   ],
   "source": [
    "set(A)"
   ]
  },
  {
   "cell_type": "code",
   "execution_count": 55,
   "metadata": {},
   "outputs": [],
   "source": [
    "A = [64,99, 5, 3,  25, 12, 22, 11]\n"
   ]
  },
  {
   "cell_type": "code",
   "execution_count": 30,
   "metadata": {},
   "outputs": [
    {
     "name": "stdout",
     "output_type": "stream",
     "text": [
      "[3, 99, 64, 5, 25, 12, 22, 11]\n",
      "[3, 64, 99, 5, 25, 12, 22, 11]\n",
      "[3, 5, 99, 64, 25, 12, 22, 11]\n",
      "[3, 5, 64, 99, 25, 12, 22, 11]\n",
      "[3, 5, 25, 99, 64, 12, 22, 11]\n",
      "[3, 5, 12, 99, 64, 25, 22, 11]\n",
      "[3, 5, 11, 99, 64, 25, 22, 12]\n",
      "[3, 5, 11, 64, 99, 25, 22, 12]\n",
      "[3, 5, 11, 25, 99, 64, 22, 12]\n",
      "[3, 5, 11, 22, 99, 64, 25, 12]\n",
      "[3, 5, 11, 12, 99, 64, 25, 22]\n",
      "[3, 5, 11, 12, 64, 99, 25, 22]\n",
      "[3, 5, 11, 12, 25, 99, 64, 22]\n",
      "[3, 5, 11, 12, 22, 99, 64, 25]\n",
      "[3, 5, 11, 12, 22, 64, 99, 25]\n",
      "[3, 5, 11, 12, 22, 25, 99, 64]\n",
      "[3, 5, 11, 12, 22, 25, 64, 99]\n"
     ]
    }
   ],
   "source": [
    "\n",
    "for i in range(len(A)-1):\n",
    "    for j in range(i+1, len(A)):\n",
    "        if A[i]>A[j]:\n",
    "            A[i], A[j]= A[j], A[i]\n",
    "            print(A)\n",
    "        \n",
    "    "
   ]
  },
  {
   "cell_type": "code",
   "execution_count": 39,
   "metadata": {},
   "outputs": [
    {
     "data": {
      "text/plain": [
       "[64, 99, 5, 3, 25, 12, 22, 11]"
      ]
     },
     "execution_count": 39,
     "metadata": {},
     "output_type": "execute_result"
    }
   ],
   "source": [
    "A"
   ]
  },
  {
   "cell_type": "code",
   "execution_count": 56,
   "metadata": {},
   "outputs": [
    {
     "name": "stdout",
     "output_type": "stream",
     "text": [
      "[64, 99, 5, 3, 25, 12, 22, 11]\n",
      "[99, 64, 5, 3, 25, 12, 22, 11]\n",
      "[99, 64, 25, 3, 5, 12, 22, 11]\n",
      "[99, 64, 25, 5, 3, 12, 22, 11]\n",
      "[99, 64, 25, 12, 3, 5, 22, 11]\n",
      "[99, 64, 25, 22, 3, 5, 12, 11]\n",
      "[99, 64, 25, 22, 5, 3, 12, 11]\n",
      "[99, 64, 25, 22, 12, 3, 5, 11]\n",
      "[99, 64, 25, 22, 12, 5, 3, 11]\n",
      "[99, 64, 25, 22, 12, 11, 3, 5]\n"
     ]
    }
   ],
   "source": [
    "for i in range(len(A)):\n",
    "    for j in range(i+1, len(A)):\n",
    "        if A[i]<A[j]:\n",
    "            print(A)\n",
    "            A[i], A[j]= A[j], A[i]\n",
    "\n",
    "# print(A)"
   ]
  },
  {
   "cell_type": "code",
   "execution_count": null,
   "metadata": {},
   "outputs": [],
   "source": []
  },
  {
   "cell_type": "code",
   "execution_count": 44,
   "metadata": {},
   "outputs": [
    {
     "name": "stdout",
     "output_type": "stream",
     "text": [
      "0 0 2 [64, 99, 5, 3, 25, 12, 22, 11]\n",
      "0 2 3 [64, 99, 5, 3, 25, 12, 22, 11]\n",
      "1 1 2 [3, 99, 5, 64, 25, 12, 22, 11]\n",
      "2 2 3 [3, 5, 99, 64, 25, 12, 22, 11]\n",
      "2 3 4 [3, 5, 99, 64, 25, 12, 22, 11]\n",
      "2 4 5 [3, 5, 99, 64, 25, 12, 22, 11]\n",
      "2 5 7 [3, 5, 99, 64, 25, 12, 22, 11]\n",
      "3 3 4 [3, 5, 11, 64, 25, 12, 22, 99]\n",
      "3 4 5 [3, 5, 11, 64, 25, 12, 22, 99]\n",
      "4 4 6 [3, 5, 11, 12, 25, 64, 22, 99]\n",
      "5 5 6 [3, 5, 11, 12, 22, 64, 25, 99]\n",
      "Sorted array\n"
     ]
    }
   ],
   "source": [
    "for i in range(len(A)-1):\n",
    "    \n",
    "    # Find the minimum element in remaining \n",
    "    # unsorted array\n",
    "    min_idx = i\n",
    "    for j in range(i+1, len(A)):\n",
    "        if A[min_idx] > A[j]:\n",
    "            print(i, min_idx, j, A)\n",
    "            min_idx = j\n",
    "            \n",
    "    # Swap the found minimum element with \n",
    "    # the first element        \n",
    "    A[i], A[min_idx] = A[min_idx], A[i]\n",
    "    # print(A)\n",
    "\n",
    "# Driver code to test above\n",
    "print (\"Sorted array\")\n",
    "# for i in range(len(A)):\n",
    "#     print(A[i],end=\" \") "
   ]
  },
  {
   "cell_type": "code",
   "execution_count": 57,
   "metadata": {},
   "outputs": [
    {
     "ename": "NameError",
     "evalue": "name 'a' is not defined",
     "output_type": "error",
     "traceback": [
      "\u001b[0;31m---------------------------------------------------------------------------\u001b[0m",
      "\u001b[0;31mNameError\u001b[0m                                 Traceback (most recent call last)",
      "Cell \u001b[0;32mIn[57], line 1\u001b[0m\n\u001b[0;32m----> 1\u001b[0m \u001b[43ma\u001b[49m\n",
      "\u001b[0;31mNameError\u001b[0m: name 'a' is not defined"
     ]
    }
   ],
   "source": [
    "a"
   ]
  },
  {
   "cell_type": "code",
   "execution_count": 76,
   "metadata": {},
   "outputs": [
    {
     "name": "stdout",
     "output_type": "stream",
     "text": [
      "A  [64, 99, 5, 3, 25, 12, 22, 11, 980, 1]\n",
      "j  2\n",
      "j  3\n",
      "j  9\n",
      "SWAPPED, 0 with 9 [1, 99, 5, 3, 25, 12, 22, 11, 980, 64]\n",
      "j  2\n",
      "j  3\n",
      "SWAPPED, 1 with 3 [1, 3, 5, 99, 25, 12, 22, 11, 980, 64]\n",
      "SWAPPED, 2 with 2 [1, 3, 5, 99, 25, 12, 22, 11, 980, 64]\n",
      "j  4\n",
      "j  5\n",
      "j  7\n",
      "SWAPPED, 3 with 7 [1, 3, 5, 11, 25, 12, 22, 99, 980, 64]\n",
      "j  5\n",
      "SWAPPED, 4 with 5 [1, 3, 5, 11, 12, 25, 22, 99, 980, 64]\n",
      "j  6\n",
      "SWAPPED, 5 with 6 [1, 3, 5, 11, 12, 22, 25, 99, 980, 64]\n",
      "SWAPPED, 6 with 6 [1, 3, 5, 11, 12, 22, 25, 99, 980, 64]\n",
      "j  9\n",
      "SWAPPED, 7 with 9 [1, 3, 5, 11, 12, 22, 25, 64, 980, 99]\n",
      "j  9\n",
      "SWAPPED, 8 with 9 [1, 3, 5, 11, 12, 22, 25, 64, 99, 980]\n",
      "SWAPPED, 9 with 9 [1, 3, 5, 11, 12, 22, 25, 64, 99, 980]\n"
     ]
    },
    {
     "data": {
      "text/plain": [
       "[1, 3, 5, 11, 12, 22, 25, 64, 99, 980]"
      ]
     },
     "execution_count": 76,
     "metadata": {},
     "output_type": "execute_result"
    }
   ],
   "source": [
    "A =[64, 99, 5, 3, 25, 12, 22, 11,980,1]\n",
    "print(\"A \", A)\n",
    "for i in range(len(A)):\n",
    "    idx = i\n",
    "    for j in range(i, len(A)):\n",
    "        if A[idx]>A[j]:\n",
    "            print(\"j \",j)\n",
    "            idx=j\n",
    "    A[i], A[idx]=A[idx], A[i]\n",
    "    print(f\"SWAPPED, {i} with {idx}\", A)\n",
    "\n",
    "A\n"
   ]
  },
  {
   "cell_type": "code",
   "execution_count": 3,
   "metadata": {},
   "outputs": [
    {
     "data": {
      "text/plain": [
       "3"
      ]
     },
     "execution_count": 3,
     "metadata": {},
     "output_type": "execute_result"
    }
   ],
   "source": [
    "sum([1,2])"
   ]
  },
  {
   "cell_type": "code",
   "execution_count": 7,
   "metadata": {},
   "outputs": [
    {
     "data": {
      "text/plain": [
       "0"
      ]
     },
     "execution_count": 7,
     "metadata": {},
     "output_type": "execute_result"
    }
   ],
   "source": [
    "4%2"
   ]
  },
  {
   "cell_type": "code",
   "execution_count": 5,
   "metadata": {},
   "outputs": [
    {
     "data": {
      "text/plain": [
       "2.5"
      ]
     },
     "execution_count": 5,
     "metadata": {},
     "output_type": "execute_result"
    }
   ],
   "source": [
    "5/2"
   ]
  },
  {
   "cell_type": "code",
   "execution_count": 8,
   "metadata": {},
   "outputs": [
    {
     "data": {
      "text/plain": [
       "1"
      ]
     },
     "execution_count": 8,
     "metadata": {},
     "output_type": "execute_result"
    }
   ],
   "source": [
    "3//2"
   ]
  },
  {
   "cell_type": "code",
   "execution_count": 16,
   "metadata": {},
   "outputs": [],
   "source": [
    "a= [1, 2,9 ,3]\n",
    "b =[2, 3]\n",
    "a.extend(b)"
   ]
  },
  {
   "cell_type": "code",
   "execution_count": 13,
   "metadata": {},
   "outputs": [],
   "source": [
    "a.sort()"
   ]
  },
  {
   "cell_type": "code",
   "execution_count": 17,
   "metadata": {},
   "outputs": [
    {
     "data": {
      "text/plain": [
       "[1, 2, 9, 3, 2, 3]"
      ]
     },
     "execution_count": 17,
     "metadata": {},
     "output_type": "execute_result"
    }
   ],
   "source": [
    "a"
   ]
  },
  {
   "cell_type": "code",
   "execution_count": 3,
   "metadata": {},
   "outputs": [
    {
     "data": {
      "text/plain": [
       "['b', 'a', 'b', 'a', 'd', 2, 3, 4]"
      ]
     },
     "execution_count": 3,
     "metadata": {},
     "output_type": "execute_result"
    }
   ],
   "source": [
    "s = 'babad'\n",
    "s = [i for i in s]\n",
    "b = [2, 3, 4]\n",
    "\n",
    "[s.append(i) for i in b]\n",
    "s"
   ]
  },
  {
   "cell_type": "code",
   "execution_count": 4,
   "metadata": {},
   "outputs": [],
   "source": [
    "s.append(9)"
   ]
  },
  {
   "cell_type": "code",
   "execution_count": 6,
   "metadata": {},
   "outputs": [
    {
     "name": "stdout",
     "output_type": "stream",
     "text": [
      "bab\n"
     ]
    }
   ],
   "source": [
    "s=['bab', 'aba']\n",
    "print(s[0])"
   ]
  },
  {
   "cell_type": "code",
   "execution_count": 7,
   "metadata": {},
   "outputs": [],
   "source": [
    "class Solution:\n",
    "    def longestPalindrome(self, s: str) -> str:\n",
    "        s = [i for i in s]\n",
    "        a = len(s)\n",
    "        # print(s)\n",
    "        collect = []\n",
    "        for i in range(1, len(s) - 1):\n",
    "            left = i\n",
    "            right = i\n",
    "            ls = i\n",
    "            rs = i\n",
    "            while s[left - 1] == s[right + 1] and left > 0:\n",
    "                left = left - 1\n",
    "                right += 1\n",
    "                print(i, left, right)\n",
    "                word = \"\".join(s[left : right + 1])\n",
    "                collect.append(word)\n",
    "            while s[ls] == s[rs + 1]:\n",
    "                rs += 1\n",
    "                word = \"\".join(s[ls: (rs + 1)])\n",
    "                collect.append(word)\n",
    "        return collect[0]\n",
    "        "
   ]
  },
  {
   "cell_type": "code",
   "execution_count": 2,
   "metadata": {},
   "outputs": [
    {
     "name": "stdout",
     "output_type": "stream",
     "text": [
      "the country on top is  with (?,?)) ('India', 98)\n"
     ]
    }
   ],
   "source": [
    "a = 'India'\n",
    "score = 98\n",
    "\n",
    "print(\"the country on top is  with (?,?))\", (a, score))"
   ]
  },
  {
   "cell_type": "code",
   "execution_count": null,
   "metadata": {},
   "outputs": [],
   "source": []
  },
  {
   "cell_type": "code",
   "execution_count": null,
   "metadata": {},
   "outputs": [],
   "source": []
  },
  {
   "cell_type": "code",
   "execution_count": null,
   "metadata": {},
   "outputs": [],
   "source": []
  },
  {
   "cell_type": "code",
   "execution_count": null,
   "metadata": {},
   "outputs": [],
   "source": []
  },
  {
   "cell_type": "code",
   "execution_count": null,
   "metadata": {},
   "outputs": [],
   "source": []
  },
  {
   "cell_type": "code",
   "execution_count": null,
   "metadata": {},
   "outputs": [],
   "source": []
  },
  {
   "cell_type": "code",
   "execution_count": null,
   "metadata": {},
   "outputs": [],
   "source": []
  },
  {
   "cell_type": "code",
   "execution_count": null,
   "metadata": {},
   "outputs": [],
   "source": []
  },
  {
   "cell_type": "code",
   "execution_count": null,
   "metadata": {},
   "outputs": [],
   "source": []
  },
  {
   "cell_type": "code",
   "execution_count": null,
   "metadata": {},
   "outputs": [],
   "source": []
  },
  {
   "cell_type": "code",
   "execution_count": null,
   "metadata": {},
   "outputs": [],
   "source": []
  },
  {
   "cell_type": "code",
   "execution_count": null,
   "metadata": {},
   "outputs": [],
   "source": []
  },
  {
   "cell_type": "code",
   "execution_count": null,
   "metadata": {},
   "outputs": [],
   "source": []
  },
  {
   "cell_type": "code",
   "execution_count": null,
   "metadata": {},
   "outputs": [],
   "source": []
  },
  {
   "cell_type": "code",
   "execution_count": null,
   "metadata": {},
   "outputs": [],
   "source": []
  },
  {
   "cell_type": "code",
   "execution_count": null,
   "metadata": {},
   "outputs": [],
   "source": []
  },
  {
   "cell_type": "code",
   "execution_count": null,
   "metadata": {},
   "outputs": [],
   "source": []
  },
  {
   "cell_type": "code",
   "execution_count": null,
   "metadata": {},
   "outputs": [],
   "source": []
  },
  {
   "cell_type": "code",
   "execution_count": null,
   "metadata": {},
   "outputs": [],
   "source": []
  },
  {
   "cell_type": "code",
   "execution_count": null,
   "metadata": {},
   "outputs": [],
   "source": []
  },
  {
   "cell_type": "code",
   "execution_count": null,
   "metadata": {},
   "outputs": [],
   "source": []
  },
  {
   "cell_type": "code",
   "execution_count": null,
   "metadata": {},
   "outputs": [],
   "source": []
  },
  {
   "cell_type": "code",
   "execution_count": null,
   "metadata": {},
   "outputs": [],
   "source": []
  },
  {
   "cell_type": "code",
   "execution_count": null,
   "metadata": {},
   "outputs": [],
   "source": []
  },
  {
   "cell_type": "code",
   "execution_count": null,
   "metadata": {},
   "outputs": [],
   "source": []
  },
  {
   "cell_type": "code",
   "execution_count": null,
   "metadata": {},
   "outputs": [],
   "source": []
  }
 ],
 "metadata": {
  "kernelspec": {
   "display_name": "Python 3",
   "language": "python",
   "name": "python3"
  },
  "language_info": {
   "codemirror_mode": {
    "name": "ipython",
    "version": 3
   },
   "file_extension": ".py",
   "mimetype": "text/x-python",
   "name": "python",
   "nbconvert_exporter": "python",
   "pygments_lexer": "ipython3",
   "version": "3.9.6"
  }
 },
 "nbformat": 4,
 "nbformat_minor": 2
}
